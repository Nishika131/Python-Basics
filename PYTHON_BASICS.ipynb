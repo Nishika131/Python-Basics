{
  "nbformat": 4,
  "nbformat_minor": 0,
  "metadata": {
    "colab": {
      "provenance": []
    },
    "kernelspec": {
      "name": "python3",
      "display_name": "Python 3"
    },
    "language_info": {
      "name": "python"
    }
  },
  "cells": [
    {
      "cell_type": "code",
      "execution_count": null,
      "metadata": {
        "id": "SfJWNr7_9d8A"
      },
      "outputs": [],
      "source": []
    },
    {
      "cell_type": "markdown",
      "source": [
        "**Q1) What is Python, and why is it popular ?**\n",
        "\n",
        "Python is a programming language which contains set of rules and symbols that define the process of writing computer programmes and used to give instructions to the computer.\n",
        "\n",
        "It is a formal language for creating instructions for a computer to follow.\n",
        "\n",
        "python is popular for the following reasons-\n",
        "\n",
        "-It is easy to understand and write, making it a popular choice among developers and programmers.\n",
        "\n",
        "-It is compatible with various programming paradigms, such as procedural, object-oriented, and functional programming.\n",
        "\n",
        "-It has extensive standard library, and third-party packages for various domains.\n",
        "\n",
        "\n",
        "**Q2)What is an interpreter in Python ?**\n",
        "\n",
        "A Python interpreter is a computer program that takes the Python code and converts it into machine code. We also have compilers that translate high-level code into machine code before execution but an interpreter is different. It translates the code you write into instructions that the computer can understand, executing them line by line.\n",
        "\n",
        "**Q3)What are pre-defined keywords in Python ?**\n",
        "\n",
        "Keywords are case-sensitive and cannot be redefined or overridden within a Python program.\n",
        "\n",
        "Keywords are reserved words in Python that have special meanings and cannot be used as identifiers (variable names, function names, etc.).\n",
        "\n",
        "\n",
        "Examples of keywords include if, else, while, for, def, class, import, try, except, return, True, False, None, etc.\n",
        "\n",
        "**Q4)Can keywords be used as variable names ?**\n",
        "\n",
        "No, keywords cannot be used as variable names in programming languages like C, C++, Python, and Java. Keywords have specific, predefined meanings within the language and are used for syntax and structure. Using them as variable names would lead to ambiguity and errors because the compiler/interpreter would not know if you're referring to a variable or a keyword.\n",
        "\n",
        "**Q5) What is mutability in Python ?**\n",
        "\n",
        "In Python, objects can be either changeable (modifiable) or unchangeable (unchangeable).\n",
        "\n",
        "Mutable objects, such as lists and dictionaries, can be modified after creation, while immutable objects, such as tuples and strings, cannot.\n",
        "\n",
        "\n",
        "Mutability affects how objects are stored and manipulated in memory, impacting performance, memory usage, and concurrency in Python programs.\n",
        "\n",
        "\n",
        "**Q6)Why are lists mutable, but tuples are immutable ?**\n",
        "\n",
        "In Python, lists are mutable because they are designed to be flexible and allow for dynamic data manipulation.\n",
        "\n",
        "lists are mutable because you can change the order of items in a list or reassign an item in a list.\n",
        "\n",
        "BUT\n",
        "\n",
        "tuples are immutable in Python. This means that once a tuple is created, its contents cannot be changed. You cannot add, remove, or modify elements within a tuple.\n",
        "\n",
        "While tuples themselves are immutable, they can contain mutable objects like lists. However, the tuple's reference to the list cannot be changed.\n",
        "\n",
        "\n",
        "**Q7)What is the difference between “==” and “is” operators in Python?**\n",
        "\n",
        "The == and is operators in Python serve distinct purposes:\n",
        "\n",
        "\n",
        "== (Equality Operator):\n",
        "Compares the values of two objects.\n",
        "Returns True if the values are equal, regardless of whether they are the same object in memory.\n",
        "Used to check if two objects have the same content.\n",
        "\n",
        "\n",
        "is (Identity Operator):\n",
        "Compares the identity of two objects.\n",
        "Returns True if two variables refer to the exact same object in memory.\n",
        "Checks if two variables point to the same memory location.\n",
        "\n",
        "**Q8) What are logical operators in Python ?**\n",
        "\n",
        "Logical operators are used to check whether an expression is True or False. They are used in decision-making.\n",
        "\n",
        "1. and:\n",
        "Returns True if both operands are True.\n",
        "Returns False if at least one operand is False.\n",
        "Example: (5 > 3) and (10 < 20) returns True because both conditions are true.\n",
        "2. or:\n",
        "Returns True if at least one operand is True.\n",
        "Returns False if both operands are False.\n",
        "Example: (5 > 3) or (10 > 20) returns True because at least one condition is true.\n",
        "3. not:\n",
        "Returns the opposite boolean value of its operand.\n",
        "If the operand is True, it returns False.\n",
        "If the operand is False, it returns True.\n",
        "Example: not (5 > 3) returns False because the condition (5 > 3) is True.\n",
        "\n",
        "**Q9) What is type casting in Python ?**\n",
        "\n",
        "Type casting, also known as type conversion, is the process of changing a variable's data type to another. This is useful when you need to perform operations that require specific data types or when you need to represent data in a different format.\n",
        "\n",
        "**Q10? What is the difference between implicit and explicit type casting ?**\n",
        "\n",
        "There are two types of type casting in Python:\n",
        "\n",
        "\n",
        "*Implicit Type Casting (Coercion):*\n",
        "Python automatically converts one data type to another in certain situations. For example, when you add an integer to a float, Python automatically converts the integer to a float before performing the addition.\n",
        "\n",
        "\n",
        "*Explicit Type Casting:*\n",
        "You manually convert a data type to another using built-in functions. Some common functions for explicit type casting include:\n",
        "int(): Converts a value to an integer.\n",
        "\n",
        "float(): Converts a value to a floating-point number.\n",
        "\n",
        "\n",
        "str(): Converts a value to a string.\n",
        "\n",
        "\n",
        "bool(): Converts a value to a boolean.\n",
        "\n",
        "\n",
        "list(): Converts a value to a list.\n",
        "\n",
        "\n",
        "tuple(): Converts a value to a tuple.\n",
        "\n",
        "\n",
        "set(): Converts a value to a set.\n",
        "\n",
        "\n",
        "dict(): Converts a value to a dictionary.\n",
        "\n",
        "\n",
        "**Q11)What is the purpose of conditional statements in Python ?**\n",
        "\n",
        "\n",
        "Conditional statements in Python are used to execute certain blocks of code based on specific conditions.\n",
        "\n",
        " These statements help control the flow of a program, making it behave differently in different situations.\n",
        "\n",
        " They enable the program to make decisions based on whether specific conditions are true or false.\n",
        "\n",
        "  This decision-making capability allows for dynamic behavior, where different code blocks are executed depending on the circumstances.\n",
        "\n",
        "**Q12)How does the elif statement work ?**\n",
        "\n",
        "Elif' stands for 'else if' and is used in Python programming to test multiple conditions.\n",
        "\n",
        "It is written following an if statement in Python to check an alternative condition if the first condition is false.\n",
        "\n",
        " The code block under the elif statement will be executed only if its condition is true.\n",
        "\n",
        "\n",
        "**Q13)What is the difference between for and while loops ?**\n",
        "\n",
        "For Loop:\n",
        "\n",
        "\n",
        "Purpose:\n",
        "Iterates over a sequence or range (e.g., a list, array, or a number of times).\n",
        "\n",
        "\n",
        "Iteration Count:\n",
        "Usually known in advance, based on the sequence or the number specified in the loop's structure.\n",
        "\n",
        "\n",
        "Syntax:\n",
        "Uses a counter variable that is initialized, incremented, and checked against a condition.\n",
        "\n",
        "\n",
        "While Loop:\n",
        "\n",
        "Purpose: Executes a block of code repeatedly as long as a condition remains true.\n",
        "\n",
        "\n",
        "Iteration Count: The number of iterations is not predetermined and depends on the condition's truthiness.\n",
        "\n",
        "\n",
        "Syntax: Checks a condition at the beginning of each iteration and continues as long as the condition is true.\n",
        "\n",
        "**Q14)Describe a scenario where a while loop is more suitable than a for loop**\n",
        "\n",
        "A 'while' loop is a crucial control structure in programming.\n",
        "\n",
        " It allows the execution of a block of code repeatedly while a specified condition is true.\n",
        "\n",
        "  In contrast to a 'for' loop, which is generally used when the number of iterations is known beforehand, a 'while' loop is ideal for situations where the number of iterations is not predetermined and depends on some dynamic condition."
      ],
      "metadata": {
        "id": "PDHqxmUT9we-"
      }
    },
    {
      "cell_type": "markdown",
      "source": [
        "***Practical Questions***\n",
        "\n",
        "Q1)Write a Python program to print \"Hello, World!\n",
        "\n"
      ],
      "metadata": {
        "id": "f9qc6bejMiSk"
      }
    },
    {
      "cell_type": "code",
      "source": [
        "print(\"Hello,World!\")"
      ],
      "metadata": {
        "id": "ZqnpI-FMNIUu"
      },
      "execution_count": null,
      "outputs": []
    },
    {
      "cell_type": "markdown",
      "source": [
        "Q2)8 Write a Python program that displays your name and age"
      ],
      "metadata": {
        "id": "WNYmpKkZNbcc"
      }
    },
    {
      "cell_type": "code",
      "source": [
        "input(\"Enter your name\")"
      ],
      "metadata": {
        "id": "6sRSgScBIzu4"
      },
      "execution_count": null,
      "outputs": []
    },
    {
      "cell_type": "code",
      "source": [
        "input(\"enter your age\")"
      ],
      "metadata": {
        "id": "SF_LMf6HQ0Dr"
      },
      "execution_count": null,
      "outputs": []
    },
    {
      "cell_type": "markdown",
      "source": [
        "Q3)Write code to print all the pre-defined keywords in Python using the keyword library"
      ],
      "metadata": {
        "id": "OctYojskRfWP"
      }
    },
    {
      "cell_type": "code",
      "source": [
        "print(\"Python keywords are...\")\n",
        "help('keywords')"
      ],
      "metadata": {
        "colab": {
          "base_uri": "https://localhost:8080/"
        },
        "id": "npTZ5U8k9Sdk",
        "outputId": "f064f396-cc88-4f1d-e119-0d22d23cacd7"
      },
      "execution_count": 104,
      "outputs": [
        {
          "output_type": "stream",
          "name": "stdout",
          "text": [
            "Python keywords are...\n",
            "\n",
            "Here is a list of the Python keywords.  Enter any keyword to get more help.\n",
            "\n",
            "False               class               from                or\n",
            "None                continue            global              pass\n",
            "True                def                 if                  raise\n",
            "and                 del                 import              return\n",
            "as                  elif                in                  try\n",
            "assert              else                is                  while\n",
            "async               except              lambda              with\n",
            "await               finally             nonlocal            yield\n",
            "break               for                 not                 \n",
            "\n"
          ]
        }
      ]
    },
    {
      "cell_type": "markdown",
      "source": [
        "Q4)Write a program that checks if a given word is a Python keyword?"
      ],
      "metadata": {
        "id": "UBb2Cb7kl8de"
      }
    },
    {
      "cell_type": "code",
      "source": [
        "import keyword\n",
        "\n",
        "s = 'TODAY'\n",
        "\n",
        "# Check if it's a Python keyword\n",
        "if keyword.iskeyword(s):\n",
        "    print(f\"'{s}' is a Python keyword.\")\n",
        "else:\n",
        "    print(f\"'{s}' is not a Python keyword.\")"
      ],
      "metadata": {
        "colab": {
          "base_uri": "https://localhost:8080/"
        },
        "id": "GJ57H3u1mKYC",
        "outputId": "c4c8fbbc-99e7-499f-b5b6-901dc4043bf7"
      },
      "execution_count": 103,
      "outputs": [
        {
          "output_type": "stream",
          "name": "stdout",
          "text": [
            "'TODAY' is not a Python keyword.\n"
          ]
        }
      ]
    },
    {
      "cell_type": "code",
      "source": [
        "import keyword\n",
        "\n",
        "s = 'for'\n",
        "\n",
        "# Check if it's a Python keyword\n",
        "if keyword.iskeyword(s):\n",
        "    print(f\"'{s}' is a Python keyword.\")\n",
        "else:\n",
        "    print(f\"'{s}' is not a Python keyword.\")"
      ],
      "metadata": {
        "colab": {
          "base_uri": "https://localhost:8080/"
        },
        "id": "els_VNhBmUDk",
        "outputId": "8be5de30-3dbe-4c8c-ede7-b3e93e466ef5"
      },
      "execution_count": 102,
      "outputs": [
        {
          "output_type": "stream",
          "name": "stdout",
          "text": [
            "'for' is a Python keyword.\n"
          ]
        }
      ]
    },
    {
      "cell_type": "markdown",
      "source": [
        "Q5). Create a list and tuple in Python, and demonstrate how attempting to change an element works differently\n",
        "for each."
      ],
      "metadata": {
        "id": "zo3EcM4imZLA"
      }
    },
    {
      "cell_type": "code",
      "source": [
        "#Making a list\n",
        "list_cont = [1, 2, 3, 4, 5, False, \"tuba\"]\n",
        "list_cont"
      ],
      "metadata": {
        "colab": {
          "base_uri": "https://localhost:8080/"
        },
        "id": "xaIbe9EQLopu",
        "outputId": "3ce7bc2a-db5e-4d4b-a789-f8907c15594b"
      },
      "execution_count": 95,
      "outputs": [
        {
          "output_type": "execute_result",
          "data": {
            "text/plain": [
              "[1, 2, 3, 4, 5, False, 'tuba']"
            ]
          },
          "metadata": {},
          "execution_count": 95
        }
      ]
    },
    {
      "cell_type": "code",
      "source": [
        "#lets use and study data container (positive)\n",
        "list_cont[1]"
      ],
      "metadata": {
        "colab": {
          "base_uri": "https://localhost:8080/"
        },
        "id": "BZYRa9zTMIFd",
        "outputId": "152beb83-a2f1-487f-fcde-4db39236684a"
      },
      "execution_count": 96,
      "outputs": [
        {
          "output_type": "execute_result",
          "data": {
            "text/plain": [
              "2"
            ]
          },
          "metadata": {},
          "execution_count": 96
        }
      ]
    },
    {
      "cell_type": "code",
      "source": [
        "#data condatiner code (negative)\n",
        "list_cont[-2]"
      ],
      "metadata": {
        "colab": {
          "base_uri": "https://localhost:8080/"
        },
        "id": "qt6srxvxMepS",
        "outputId": "7e0c79ca-8d32-426a-ca8b-0696d7a339ff"
      },
      "execution_count": 97,
      "outputs": [
        {
          "output_type": "execute_result",
          "data": {
            "text/plain": [
              "False"
            ]
          },
          "metadata": {},
          "execution_count": 97
        }
      ]
    },
    {
      "cell_type": "code",
      "source": [
        "#mutable\n",
        "list_cont[0] = 7\n",
        "list_cont"
      ],
      "metadata": {
        "colab": {
          "base_uri": "https://localhost:8080/"
        },
        "id": "YqbKPDuwNRMS",
        "outputId": "a83539a5-7b11-4dc0-bfc8-345e5839596d"
      },
      "execution_count": 98,
      "outputs": [
        {
          "output_type": "execute_result",
          "data": {
            "text/plain": [
              "[7, 2, 3, 4, 5, False, 'tuba']"
            ]
          },
          "metadata": {},
          "execution_count": 98
        }
      ]
    },
    {
      "cell_type": "code",
      "source": [
        "#immutable\n",
        "##string is a type of immutable object/ doesn't supports item assignment\n",
        "list_cont[5] = True\n",
        "list_cont"
      ],
      "metadata": {
        "colab": {
          "base_uri": "https://localhost:8080/"
        },
        "id": "f6ShN1FrM8yl",
        "outputId": "9a11b37e-a505-4911-f623-2cedb1b300c4"
      },
      "execution_count": 101,
      "outputs": [
        {
          "output_type": "execute_result",
          "data": {
            "text/plain": [
              "[7, 2, 3, 4, 5, True, 'tuba']"
            ]
          },
          "metadata": {},
          "execution_count": 101
        }
      ]
    },
    {
      "cell_type": "markdown",
      "source": [
        "Q6) Write a function to demonstrate the behavior of mutable and immutable arguments"
      ],
      "metadata": {
        "id": "xaytdGShOryS"
      }
    },
    {
      "cell_type": "code",
      "source": [
        "#Preparing a list\n",
        "list_cont = [2 , 4 ,6 ,8 ,10 , \"sapna\" , \"sangeeta\"]\n",
        "list_cont"
      ],
      "metadata": {
        "colab": {
          "base_uri": "https://localhost:8080/"
        },
        "id": "An5yfY6BOzEy",
        "outputId": "f014e53e-6215-42d5-80bf-99a05c56679a"
      },
      "execution_count": 90,
      "outputs": [
        {
          "output_type": "execute_result",
          "data": {
            "text/plain": [
              "[2, 4, 6, 8, 10, 'sapna', 'sangeeta']"
            ]
          },
          "metadata": {},
          "execution_count": 90
        }
      ]
    },
    {
      "cell_type": "code",
      "source": [
        "#mutable arguments\n",
        "#objects/container whose state or value can be changed after they are created are\n",
        "#called as mutable objects or container,\n",
        "#list is a type of mutable object/supports item assignment\n",
        "list_cont[0]= 700\n",
        "list_cont"
      ],
      "metadata": {
        "colab": {
          "base_uri": "https://localhost:8080/"
        },
        "id": "0sMjnGmAPI5f",
        "outputId": "9b3e3779-72a1-4957-b9cb-019fe84681a2"
      },
      "execution_count": 91,
      "outputs": [
        {
          "output_type": "execute_result",
          "data": {
            "text/plain": [
              "[700, 4, 6, 8, 10, 'sapna', 'sangeeta']"
            ]
          },
          "metadata": {},
          "execution_count": 91
        }
      ]
    },
    {
      "cell_type": "code",
      "source": [
        "#immutable arguments\n",
        "##objects/container whose state or value can not be changed after they are created are\n",
        "#called as immutable objects or container,\n",
        "#string is a type of immutable object/ doesn't supports item assignment\n",
        "list_cont[5] = \"raunak\"\n",
        "list_cont"
      ],
      "metadata": {
        "colab": {
          "base_uri": "https://localhost:8080/"
        },
        "id": "FmbWrcTVPbvT",
        "outputId": "6b62bcb4-2340-4a6e-b241-c9557642da95"
      },
      "execution_count": 93,
      "outputs": [
        {
          "output_type": "execute_result",
          "data": {
            "text/plain": [
              "[700, 4, 6, 8, 10, 'raunak', 'sangeeta']"
            ]
          },
          "metadata": {},
          "execution_count": 93
        }
      ]
    },
    {
      "cell_type": "markdown",
      "source": [
        "Q7) Write a program that performs basic arithmetic operations on two user-input numbers."
      ],
      "metadata": {
        "id": "-Tzq50H0Qarr"
      }
    },
    {
      "cell_type": "code",
      "source": [
        "#basic arithmetic operations\n",
        "a = 14\n",
        "b = 27\n",
        "a+b"
      ],
      "metadata": {
        "colab": {
          "base_uri": "https://localhost:8080/"
        },
        "id": "5cKLhg1ASaYB",
        "outputId": "c51ece58-37ba-4397-cce7-8141ae55a005"
      },
      "execution_count": 82,
      "outputs": [
        {
          "output_type": "execute_result",
          "data": {
            "text/plain": [
              "41"
            ]
          },
          "metadata": {},
          "execution_count": 82
        }
      ]
    },
    {
      "cell_type": "code",
      "source": [
        "add = 14+27\n",
        "print(add)"
      ],
      "metadata": {
        "colab": {
          "base_uri": "https://localhost:8080/"
        },
        "id": "mfARmHuoSisK",
        "outputId": "95240b8a-e8f6-473a-9ee0-ad22fb84aebb"
      },
      "execution_count": 80,
      "outputs": [
        {
          "output_type": "stream",
          "name": "stdout",
          "text": [
            "41\n"
          ]
        }
      ]
    },
    {
      "cell_type": "code",
      "source": [
        "12 - 7"
      ],
      "metadata": {
        "colab": {
          "base_uri": "https://localhost:8080/"
        },
        "id": "_1jjyNQ5S2Gv",
        "outputId": "68c9e697-447a-4464-d40e-49bae31721ad"
      },
      "execution_count": 81,
      "outputs": [
        {
          "output_type": "execute_result",
          "data": {
            "text/plain": [
              "5"
            ]
          },
          "metadata": {},
          "execution_count": 81
        }
      ]
    },
    {
      "cell_type": "code",
      "source": [
        "2 * 8"
      ],
      "metadata": {
        "colab": {
          "base_uri": "https://localhost:8080/"
        },
        "id": "Lx8v1CA1S_Vs",
        "outputId": "9b846aa8-c641-471f-a0de-d63969b9f8d7"
      },
      "execution_count": 77,
      "outputs": [
        {
          "output_type": "execute_result",
          "data": {
            "text/plain": [
              "16"
            ]
          },
          "metadata": {},
          "execution_count": 77
        }
      ]
    },
    {
      "cell_type": "code",
      "source": [
        "2/2"
      ],
      "metadata": {
        "colab": {
          "base_uri": "https://localhost:8080/"
        },
        "id": "Jud0aUnqTDFf",
        "outputId": "74b737b1-744d-4235-b834-01577e3a25c9"
      },
      "execution_count": 78,
      "outputs": [
        {
          "output_type": "execute_result",
          "data": {
            "text/plain": [
              "1.0"
            ]
          },
          "metadata": {},
          "execution_count": 78
        }
      ]
    },
    {
      "cell_type": "code",
      "source": [
        "72 % 5"
      ],
      "metadata": {
        "colab": {
          "base_uri": "https://localhost:8080/"
        },
        "id": "h9OA0PoLTJnR",
        "outputId": "3c75a8ac-4ebd-47f9-8834-359833ae4bc1"
      },
      "execution_count": 79,
      "outputs": [
        {
          "output_type": "execute_result",
          "data": {
            "text/plain": [
              "2"
            ]
          },
          "metadata": {},
          "execution_count": 79
        }
      ]
    },
    {
      "cell_type": "markdown",
      "source": [
        "Q8) Write a program to demonstrate the use of logical operators"
      ],
      "metadata": {
        "id": "yFan_D24TM55"
      }
    },
    {
      "cell_type": "code",
      "source": [
        "#Logical operator\n",
        "#and\n",
        "True and False"
      ],
      "metadata": {
        "colab": {
          "base_uri": "https://localhost:8080/"
        },
        "id": "HWfeqRL9TPUS",
        "outputId": "28fd803c-6f1b-4e80-ae18-f8b7770a5cfd"
      },
      "execution_count": 76,
      "outputs": [
        {
          "output_type": "execute_result",
          "data": {
            "text/plain": [
              "False"
            ]
          },
          "metadata": {},
          "execution_count": 76
        }
      ]
    },
    {
      "cell_type": "code",
      "source": [
        "False and True"
      ],
      "metadata": {
        "colab": {
          "base_uri": "https://localhost:8080/"
        },
        "id": "SvnCyx2WTkEM",
        "outputId": "0964adc9-79d8-4fb6-e523-b056ff0176ec"
      },
      "execution_count": 74,
      "outputs": [
        {
          "output_type": "execute_result",
          "data": {
            "text/plain": [
              "False"
            ]
          },
          "metadata": {},
          "execution_count": 74
        }
      ]
    },
    {
      "cell_type": "code",
      "source": [
        "True and True"
      ],
      "metadata": {
        "colab": {
          "base_uri": "https://localhost:8080/"
        },
        "id": "E8Po-lCKTrV3",
        "outputId": "1412f5ce-6cb6-4fda-dc6f-05c0bb7eddf3"
      },
      "execution_count": 75,
      "outputs": [
        {
          "output_type": "execute_result",
          "data": {
            "text/plain": [
              "True"
            ]
          },
          "metadata": {},
          "execution_count": 75
        }
      ]
    },
    {
      "cell_type": "code",
      "source": [
        "False and False"
      ],
      "metadata": {
        "colab": {
          "base_uri": "https://localhost:8080/"
        },
        "id": "H2yJaR85TuIJ",
        "outputId": "a5380d93-b09d-45fe-f100-ce49cddd5ab9"
      },
      "execution_count": 73,
      "outputs": [
        {
          "output_type": "execute_result",
          "data": {
            "text/plain": [
              "False"
            ]
          },
          "metadata": {},
          "execution_count": 73
        }
      ]
    },
    {
      "cell_type": "code",
      "source": [
        "#Not operator\n",
        "not True"
      ],
      "metadata": {
        "colab": {
          "base_uri": "https://localhost:8080/"
        },
        "id": "iklmW7uQUB-q",
        "outputId": "2397a9ef-a067-4181-fe75-f69d578e99dc"
      },
      "execution_count": 72,
      "outputs": [
        {
          "output_type": "execute_result",
          "data": {
            "text/plain": [
              "False"
            ]
          },
          "metadata": {},
          "execution_count": 72
        }
      ]
    },
    {
      "cell_type": "code",
      "source": [
        "not False"
      ],
      "metadata": {
        "colab": {
          "base_uri": "https://localhost:8080/"
        },
        "id": "WF2nj7FzUC2-",
        "outputId": "b456b0aa-5796-447e-8d66-4b06e2b9bda1"
      },
      "execution_count": 71,
      "outputs": [
        {
          "output_type": "execute_result",
          "data": {
            "text/plain": [
              "True"
            ]
          },
          "metadata": {},
          "execution_count": 71
        }
      ]
    },
    {
      "cell_type": "markdown",
      "source": [
        "Q9) Write a Python program to convert user input from string to integer, float, and boolean types.\n",
        "\n"
      ],
      "metadata": {
        "id": "bfShh_4nUG5k"
      }
    },
    {
      "cell_type": "code",
      "source": [
        "#lets take user input data as\n",
        "\n",
        "a = \"aajay\"\n",
        "a"
      ],
      "metadata": {
        "colab": {
          "base_uri": "https://localhost:8080/",
          "height": 35
        },
        "id": "sFJHykXqUwCH",
        "outputId": "c04f6853-9399-4dcf-ccdc-f9fdcc49ddd7"
      },
      "execution_count": 84,
      "outputs": [
        {
          "output_type": "execute_result",
          "data": {
            "text/plain": [
              "'aajay'"
            ],
            "application/vnd.google.colaboratory.intrinsic+json": {
              "type": "string"
            }
          },
          "metadata": {},
          "execution_count": 84
        }
      ]
    },
    {
      "cell_type": "code",
      "source": [
        "type(a)"
      ],
      "metadata": {
        "colab": {
          "base_uri": "https://localhost:8080/"
        },
        "id": "8l7i3AizVaxP",
        "outputId": "5db2fd0d-d445-4c20-a5ed-fa27a621c598"
      },
      "execution_count": 69,
      "outputs": [
        {
          "output_type": "execute_result",
          "data": {
            "text/plain": [
              "str"
            ]
          },
          "metadata": {},
          "execution_count": 69
        }
      ]
    },
    {
      "cell_type": "code",
      "source": [
        "#Converting user input string to integer\n",
        "a = \"2\"\n",
        "print(type(a))\n",
        "print(type(int(a)))"
      ],
      "metadata": {
        "colab": {
          "base_uri": "https://localhost:8080/"
        },
        "id": "8bnWwzHvUN8E",
        "outputId": "f03a8fc0-416d-4fab-dd1f-1d7fe040d692"
      },
      "execution_count": 68,
      "outputs": [
        {
          "output_type": "stream",
          "name": "stdout",
          "text": [
            "<class 'str'>\n",
            "<class 'int'>\n"
          ]
        }
      ]
    },
    {
      "cell_type": "code",
      "source": [
        "#converting string to float\n",
        "a = \"2.3\"\n",
        "type(a)"
      ],
      "metadata": {
        "colab": {
          "base_uri": "https://localhost:8080/"
        },
        "id": "8yc1Gv9IV1IJ",
        "outputId": "0604b8dd-f2f4-4824-c9f7-9c517542b5c0"
      },
      "execution_count": 67,
      "outputs": [
        {
          "output_type": "execute_result",
          "data": {
            "text/plain": [
              "str"
            ]
          },
          "metadata": {},
          "execution_count": 67
        }
      ]
    },
    {
      "cell_type": "code",
      "source": [
        "#converting string to boolean\n",
        "#bool\n",
        "bool(0)"
      ],
      "metadata": {
        "colab": {
          "base_uri": "https://localhost:8080/"
        },
        "id": "zbkdhChQWD6g",
        "outputId": "204923f1-316c-4733-ed7a-750d29770ee5"
      },
      "execution_count": 66,
      "outputs": [
        {
          "output_type": "execute_result",
          "data": {
            "text/plain": [
              "False"
            ]
          },
          "metadata": {},
          "execution_count": 66
        }
      ]
    },
    {
      "cell_type": "code",
      "source": [
        "bool(1)"
      ],
      "metadata": {
        "colab": {
          "base_uri": "https://localhost:8080/"
        },
        "id": "A5XocKoGWQju",
        "outputId": "ceb40fe6-4b11-43d5-8ff6-fccece89e71d"
      },
      "execution_count": 64,
      "outputs": [
        {
          "output_type": "execute_result",
          "data": {
            "text/plain": [
              "True"
            ]
          },
          "metadata": {},
          "execution_count": 64
        }
      ]
    },
    {
      "cell_type": "code",
      "source": [
        "bool(100)"
      ],
      "metadata": {
        "colab": {
          "base_uri": "https://localhost:8080/"
        },
        "id": "X_NCqCA-WUg4",
        "outputId": "0c581339-62fe-4fcb-89f2-f76c7b1b6e77"
      },
      "execution_count": 65,
      "outputs": [
        {
          "output_type": "execute_result",
          "data": {
            "text/plain": [
              "True"
            ]
          },
          "metadata": {},
          "execution_count": 65
        }
      ]
    },
    {
      "cell_type": "markdown",
      "source": [
        "Q10)Write code to demonstrate type casting with list elements"
      ],
      "metadata": {
        "id": "en4_Q87IWZcX"
      }
    },
    {
      "cell_type": "code",
      "source": [
        "string_list = ['10', '20', '30', '40']\n",
        "\n",
        "# Convert string elements to integers\n",
        "int_list = [int(x) for x in string_list]\n",
        "\n",
        "# Convert integer list to float\n",
        "float_list = [float(x) for x in int_list]\n",
        "\n",
        "# Convert float list back to strings\n",
        "new_string_list = [str(x) for x in float_list]\n",
        "\n",
        "print(\"Original string list:\", string_list)\n",
        "print(\"After converting to integers:\", int_list)\n",
        "print(\"After converting to floats:\", float_list)\n",
        "print(\"After converting back to strings:\", new_string_list)"
      ],
      "metadata": {
        "colab": {
          "base_uri": "https://localhost:8080/"
        },
        "id": "Cx_UZp3taEW0",
        "outputId": "4a0be5fe-c60a-4f5b-fa4f-ee545d6773b2"
      },
      "execution_count": 63,
      "outputs": [
        {
          "output_type": "stream",
          "name": "stdout",
          "text": [
            "Original string list: ['10', '20', '30', '40']\n",
            "After converting to integers: [10, 20, 30, 40]\n",
            "After converting to floats: [10.0, 20.0, 30.0, 40.0]\n",
            "After converting back to strings: ['10.0', '20.0', '30.0', '40.0']\n"
          ]
        }
      ]
    },
    {
      "cell_type": "markdown",
      "source": [
        "Q11) Write a program that checks if a number is positive, negative, or zero"
      ],
      "metadata": {
        "id": "UajbTVXFXMWB"
      }
    },
    {
      "cell_type": "code",
      "source": [
        "\n",
        "number = 10\n",
        "\n",
        "if number > 0:\n",
        "    print(f\"{number} is a positive number.\")\n",
        "elif number < 0:\n",
        "    print(f\"{number} is a negative number.\")\n",
        "else:\n",
        "    print(f\"The number is zero.\")"
      ],
      "metadata": {
        "colab": {
          "base_uri": "https://localhost:8080/"
        },
        "id": "bT0mjrrpYAd5",
        "outputId": "e91109b9-26dd-43fe-9be5-24787635b117"
      },
      "execution_count": 62,
      "outputs": [
        {
          "output_type": "stream",
          "name": "stdout",
          "text": [
            "10 is a positive number.\n"
          ]
        }
      ]
    },
    {
      "cell_type": "code",
      "source": [
        "number = -5\n",
        "\n",
        "if number > 0:\n",
        "    print(f\"{number} is a positive number.\")\n",
        "elif number < 0:\n",
        "    print(f\"{number} is a negative number.\")\n",
        "else:\n",
        "    print(f\"The number is zero.\")"
      ],
      "metadata": {
        "colab": {
          "base_uri": "https://localhost:8080/"
        },
        "id": "l7Pes4t4YCJN",
        "outputId": "34573766-7d15-4212-bf5c-38d2c2d97434"
      },
      "execution_count": 61,
      "outputs": [
        {
          "output_type": "stream",
          "name": "stdout",
          "text": [
            "-5 is a negative number.\n"
          ]
        }
      ]
    },
    {
      "cell_type": "code",
      "source": [
        "number = 0\n",
        "\n",
        "if number > 0:\n",
        "    print(f\"{number} is a positive number.\")\n",
        "elif number < 0:\n",
        "    print(f\"{number} is a negative number.\")\n",
        "else:\n",
        "    print(f\"The number is zero.\")"
      ],
      "metadata": {
        "colab": {
          "base_uri": "https://localhost:8080/"
        },
        "id": "ebJNWKr6YHbs",
        "outputId": "59b0b711-0592-4c6f-d7a9-c77f4f8fc7ca"
      },
      "execution_count": 60,
      "outputs": [
        {
          "output_type": "stream",
          "name": "stdout",
          "text": [
            "The number is zero.\n"
          ]
        }
      ]
    },
    {
      "cell_type": "markdown",
      "source": [],
      "metadata": {
        "id": "Foue1xrAYN39"
      }
    },
    {
      "cell_type": "markdown",
      "source": [
        "Q12)Write a for loop to print numbers from 1 to 10.\n"
      ],
      "metadata": {
        "id": "F6JanW7ZYP87"
      }
    },
    {
      "cell_type": "code",
      "source": [
        "number = [1, 2, 3, 4, 5, 6, 7, 8, 9 , 10]\n",
        "for num in number:\n",
        "    print(num)"
      ],
      "metadata": {
        "colab": {
          "base_uri": "https://localhost:8080/"
        },
        "id": "dQ14dZgmY4T1",
        "outputId": "d740ee5c-601c-4185-f79a-6a1a035f432e"
      },
      "execution_count": 59,
      "outputs": [
        {
          "output_type": "stream",
          "name": "stdout",
          "text": [
            "1\n",
            "2\n",
            "3\n",
            "4\n",
            "5\n",
            "6\n",
            "7\n",
            "8\n",
            "9\n",
            "10\n"
          ]
        }
      ]
    },
    {
      "cell_type": "markdown",
      "source": [
        "Q13) Write a Python program to find the sum of all even numbers between 1 and 50"
      ],
      "metadata": {
        "id": "w-K6h5eaZb6K"
      }
    },
    {
      "cell_type": "code",
      "source": [
        "sum = 0\n",
        "for i in range(1, 51):\n",
        "    if i % 2 == 0:  # Check if the number is even\n",
        "        sum = sum + i\n",
        "print(\"The sum of all even numbers from 1 to 50 is:\", sum)"
      ],
      "metadata": {
        "colab": {
          "base_uri": "https://localhost:8080/"
        },
        "id": "nWhRmnAGZyRF",
        "outputId": "316d4941-3386-4988-b44c-3f5492e4eec7"
      },
      "execution_count": 50,
      "outputs": [
        {
          "output_type": "stream",
          "name": "stdout",
          "text": [
            "The sum of all even numbers from 1 to 50 is: 650\n"
          ]
        }
      ]
    },
    {
      "cell_type": "markdown",
      "source": [
        "Q14) Write a program to reverse a string using a while loop"
      ],
      "metadata": {
        "id": "J6TAIDYQbB0t"
      }
    },
    {
      "cell_type": "code",
      "source": [
        "#loop statement >> It allows you to execute a block of code repeatedly\n",
        "text = \"hello\"\n",
        "reversed_text = \"\"\n",
        "index = len(text) - 1\n",
        "while index >= 0:\n",
        "    reversed_text += text[index]\n",
        "    index -= 1\n",
        "    print(\"Original string:\", text)\n",
        "print(\"Reversed string:\", reversed_text)"
      ],
      "metadata": {
        "colab": {
          "base_uri": "https://localhost:8080/"
        },
        "id": "oTnyWf6Ibkdj",
        "outputId": "b7097b9c-8199-4900-d4fb-d345ece1d48a"
      },
      "execution_count": 57,
      "outputs": [
        {
          "output_type": "stream",
          "name": "stdout",
          "text": [
            "Original string: hello\n",
            "Original string: hello\n",
            "Original string: hello\n",
            "Original string: hello\n",
            "Original string: hello\n",
            "Reversed string: olleh\n"
          ]
        }
      ]
    },
    {
      "cell_type": "markdown",
      "source": [
        "Q15) Write a Python program to calculate the factorial of a number provided by the user using a while loop"
      ],
      "metadata": {
        "id": "aGlSlZR-cabc"
      }
    },
    {
      "cell_type": "code",
      "source": [
        "# Get input from the user\n",
        "num = int(input(\"Enter a number to find its factorial: \"))\n",
        "\n",
        "# Initialize variables\n",
        "factorial = 1\n",
        "i = 1\n",
        "\n",
        "# Check if the number is negative, zero, or positive\n",
        "if num < 0:\n",
        "    print(\"Factorial is not defined for negative numbers.\")\n",
        "else:\n",
        "    while i <= num:\n",
        "        factorial *= i\n",
        "        i += 1\n",
        "    print(f\"The factorial of {num} is: {factorial}\")"
      ],
      "metadata": {
        "colab": {
          "base_uri": "https://localhost:8080/"
        },
        "id": "E7cFBh2zcei_",
        "outputId": "c0134cc6-afe5-423f-de3d-4a67306a9bd3"
      },
      "execution_count": 58,
      "outputs": [
        {
          "output_type": "stream",
          "name": "stdout",
          "text": [
            "Enter a number to find its factorial: 22\n",
            "The factorial of 22 is: 1124000727777607680000\n"
          ]
        }
      ]
    }
  ]
}